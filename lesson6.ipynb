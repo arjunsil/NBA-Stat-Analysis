{
 "cells": [
  {
   "cell_type": "markdown",
   "metadata": {
    "collapsed": true
   },
   "source": [
    "# Linear Regression"
   ]
  },
  {
   "cell_type": "markdown",
   "metadata": {},
   "source": [
    "-A way to relate two variables with statistical confidence.\n",
    "\n",
    "-Ex: Does Mortality increase as Age increases?\n",
    "\n",
    "-Ex: Does the Error Rate decrease as Time Practiced increases?\n",
    "\n",
    "*For now, we will only cover linear relationships like \"Y goes down as X goes up\". It is possible to expand Linear Regression to a generalized \"Polynomial Regression\" that can handle more nuanced relationships like quadratic (or any polynomial relationship), log, etc.*"
   ]
  },
  {
   "cell_type": "markdown",
   "metadata": {},
   "source": [
    "**Let's run a Linear Regression in Python on our NBA season average data.**"
   ]
  },
  {
   "cell_type": "code",
   "execution_count": null,
   "metadata": {},
   "outputs": [],
   "source": [
    "import pandas as pd\n",
    "import numpy as np\n",
    "\n",
    "# This library is used to do simple plots before running our regression\n",
    "import matplotlib.pyplot as plt\n",
    "\n",
    "# Two libraries you can do linear regression with.\n",
    "from sklearn import linear_model\n",
    "import statsmodels.api as sm\n",
    "\n",
    "# Used for displaying images from the internet I found to help learn this.\n",
    "from IPython.display import Image"
   ]
  },
  {
   "attachments": {},
   "cell_type": "markdown",
   "metadata": {},
   "source": [
    "**Load the pre-made data from the csv file**"
   ]
  },
  {
   "cell_type": "code",
   "execution_count": null,
   "metadata": {},
   "outputs": [
    {
     "data": {
      "text/html": [
       "<div>\n",
       "<style scoped>\n",
       "    .dataframe tbody tr th:only-of-type {\n",
       "        vertical-align: middle;\n",
       "    }\n",
       "\n",
       "    .dataframe tbody tr th {\n",
       "        vertical-align: top;\n",
       "    }\n",
       "\n",
       "    .dataframe thead th {\n",
       "        text-align: right;\n",
       "    }\n",
       "</style>\n",
       "<table border=\"1\" class=\"dataframe\">\n",
       "  <thead>\n",
       "    <tr style=\"text-align: right;\">\n",
       "      <th></th>\n",
       "      <th>Year</th>\n",
       "      <th>Player</th>\n",
       "      <th>Tm</th>\n",
       "      <th>start_pct</th>\n",
       "      <th>MP</th>\n",
       "      <th>PTS</th>\n",
       "      <th>TRB</th>\n",
       "      <th>AST</th>\n",
       "      <th>FGA</th>\n",
       "      <th>FG%</th>\n",
       "      <th>...</th>\n",
       "      <th>2PA</th>\n",
       "      <th>2P%</th>\n",
       "      <th>FTA</th>\n",
       "      <th>FT%</th>\n",
       "      <th>STL</th>\n",
       "      <th>BLK</th>\n",
       "      <th>TOV</th>\n",
       "      <th>PF</th>\n",
       "      <th>start_pct.1</th>\n",
       "      <th>win_pct</th>\n",
       "    </tr>\n",
       "  </thead>\n",
       "  <tbody>\n",
       "    <tr>\n",
       "      <th>0</th>\n",
       "      <td>2001</td>\n",
       "      <td>Shareef Abdur-Rahim</td>\n",
       "      <td>VAN</td>\n",
       "      <td>1.000000</td>\n",
       "      <td>40.0</td>\n",
       "      <td>20.5</td>\n",
       "      <td>9.1</td>\n",
       "      <td>3.1</td>\n",
       "      <td>15.8</td>\n",
       "      <td>0.472</td>\n",
       "      <td>...</td>\n",
       "      <td>15.0</td>\n",
       "      <td>0.487</td>\n",
       "      <td>6.6</td>\n",
       "      <td>0.834</td>\n",
       "      <td>1.1</td>\n",
       "      <td>1.0</td>\n",
       "      <td>2.9</td>\n",
       "      <td>2.9</td>\n",
       "      <td>1.000000</td>\n",
       "      <td>0.280488</td>\n",
       "    </tr>\n",
       "    <tr>\n",
       "      <th>1</th>\n",
       "      <td>2001</td>\n",
       "      <td>Mike Bibby</td>\n",
       "      <td>VAN</td>\n",
       "      <td>1.000000</td>\n",
       "      <td>38.9</td>\n",
       "      <td>15.9</td>\n",
       "      <td>3.7</td>\n",
       "      <td>8.4</td>\n",
       "      <td>14.1</td>\n",
       "      <td>0.454</td>\n",
       "      <td>...</td>\n",
       "      <td>10.6</td>\n",
       "      <td>0.478</td>\n",
       "      <td>2.3</td>\n",
       "      <td>0.761</td>\n",
       "      <td>1.3</td>\n",
       "      <td>0.1</td>\n",
       "      <td>3.0</td>\n",
       "      <td>1.8</td>\n",
       "      <td>1.000000</td>\n",
       "      <td>0.280488</td>\n",
       "    </tr>\n",
       "    <tr>\n",
       "      <th>2</th>\n",
       "      <td>2001</td>\n",
       "      <td>Michael Dickerson</td>\n",
       "      <td>VAN</td>\n",
       "      <td>0.985714</td>\n",
       "      <td>37.4</td>\n",
       "      <td>16.3</td>\n",
       "      <td>3.3</td>\n",
       "      <td>3.3</td>\n",
       "      <td>14.6</td>\n",
       "      <td>0.417</td>\n",
       "      <td>...</td>\n",
       "      <td>11.3</td>\n",
       "      <td>0.429</td>\n",
       "      <td>3.9</td>\n",
       "      <td>0.763</td>\n",
       "      <td>0.9</td>\n",
       "      <td>0.4</td>\n",
       "      <td>2.3</td>\n",
       "      <td>3.0</td>\n",
       "      <td>0.985714</td>\n",
       "      <td>0.280488</td>\n",
       "    </tr>\n",
       "    <tr>\n",
       "      <th>3</th>\n",
       "      <td>2001</td>\n",
       "      <td>Othella Harrington</td>\n",
       "      <td>VAN</td>\n",
       "      <td>0.909091</td>\n",
       "      <td>28.8</td>\n",
       "      <td>10.9</td>\n",
       "      <td>6.6</td>\n",
       "      <td>0.8</td>\n",
       "      <td>8.8</td>\n",
       "      <td>0.466</td>\n",
       "      <td>...</td>\n",
       "      <td>8.7</td>\n",
       "      <td>0.470</td>\n",
       "      <td>3.5</td>\n",
       "      <td>0.779</td>\n",
       "      <td>0.4</td>\n",
       "      <td>0.6</td>\n",
       "      <td>2.4</td>\n",
       "      <td>3.1</td>\n",
       "      <td>0.909091</td>\n",
       "      <td>0.280488</td>\n",
       "    </tr>\n",
       "    <tr>\n",
       "      <th>4</th>\n",
       "      <td>2001</td>\n",
       "      <td>Bryant Reeves</td>\n",
       "      <td>VAN</td>\n",
       "      <td>0.640000</td>\n",
       "      <td>24.4</td>\n",
       "      <td>8.3</td>\n",
       "      <td>6.0</td>\n",
       "      <td>1.1</td>\n",
       "      <td>7.4</td>\n",
       "      <td>0.460</td>\n",
       "      <td>...</td>\n",
       "      <td>7.3</td>\n",
       "      <td>0.462</td>\n",
       "      <td>1.9</td>\n",
       "      <td>0.796</td>\n",
       "      <td>0.6</td>\n",
       "      <td>0.7</td>\n",
       "      <td>1.2</td>\n",
       "      <td>3.2</td>\n",
       "      <td>0.640000</td>\n",
       "      <td>0.280488</td>\n",
       "    </tr>\n",
       "  </tbody>\n",
       "</table>\n",
       "<p>5 rows × 22 columns</p>\n",
       "</div>"
      ],
      "text/plain": [
       "   Year               Player   Tm  start_pct    MP   PTS  TRB  AST   FGA  \\\n",
       "0  2001  Shareef Abdur-Rahim  VAN   1.000000  40.0  20.5  9.1  3.1  15.8   \n",
       "1  2001           Mike Bibby  VAN   1.000000  38.9  15.9  3.7  8.4  14.1   \n",
       "2  2001    Michael Dickerson  VAN   0.985714  37.4  16.3  3.3  3.3  14.6   \n",
       "3  2001   Othella Harrington  VAN   0.909091  28.8  10.9  6.6  0.8   8.8   \n",
       "4  2001        Bryant Reeves  VAN   0.640000  24.4   8.3  6.0  1.1   7.4   \n",
       "\n",
       "     FG%  ...   2PA    2P%  FTA    FT%  STL  BLK  TOV   PF  start_pct.1  \\\n",
       "0  0.472  ...  15.0  0.487  6.6  0.834  1.1  1.0  2.9  2.9     1.000000   \n",
       "1  0.454  ...  10.6  0.478  2.3  0.761  1.3  0.1  3.0  1.8     1.000000   \n",
       "2  0.417  ...  11.3  0.429  3.9  0.763  0.9  0.4  2.3  3.0     0.985714   \n",
       "3  0.466  ...   8.7  0.470  3.5  0.779  0.4  0.6  2.4  3.1     0.909091   \n",
       "4  0.460  ...   7.3  0.462  1.9  0.796  0.6  0.7  1.2  3.2     0.640000   \n",
       "\n",
       "    win_pct  \n",
       "0  0.280488  \n",
       "1  0.280488  \n",
       "2  0.280488  \n",
       "3  0.280488  \n",
       "4  0.280488  \n",
       "\n",
       "[5 rows x 22 columns]"
      ]
     },
     "execution_count": 3,
     "metadata": {},
     "output_type": "execute_result"
    }
   ],
   "source": [
    "nba = pd.read_csv(\"NBA Reg Season Player Avgs with Win Pct 2000-2019.csv\")\n",
    "nba.head()"
   ]
  },
  {
   "attachments": {},
   "cell_type": "markdown",
   "metadata": {},
   "source": [
    "**Look at all the column names to help hypothesize which two variables might be related.**"
   ]
  },
  {
   "cell_type": "code",
   "execution_count": null,
   "metadata": {},
   "outputs": [
    {
     "data": {
      "text/plain": [
       "Index(['Year', 'Player', 'Tm', 'start_pct', 'MP', 'PTS', 'TRB', 'AST', 'FGA',\n",
       "       'FG%', '3PA', '3P%', '2PA', '2P%', 'FTA', 'FT%', 'STL', 'BLK', 'TOV',\n",
       "       'PF', 'start_pct.1', 'win_pct'],\n",
       "      dtype='object')"
      ]
     },
     "execution_count": 4,
     "metadata": {},
     "output_type": "execute_result"
    }
   ],
   "source": [
    "nba.columns"
   ]
  },
  {
   "cell_type": "markdown",
   "metadata": {},
   "source": [
    "**Maybe we can expect that points scored (`PTS`) goes up as minutes played (`MP`) goes up?**\n",
    "\n",
    "Let's first make a scatterplot of these two columns to explore the data."
   ]
  },
  {
   "cell_type": "code",
   "execution_count": null,
   "metadata": {},
   "outputs": [
    {
     "data": {
      "image/png": "[encoded data removed]",
      "text/plain": [
       "<Figure size 432x288 with 1 Axes>"
      ]
     },
     "metadata": {
      "needs_background": "light"
     },
     "output_type": "display_data"
    }
   ],
   "source": [
    "plt.scatter(x=nba['MP'], y=nba['PTS'])\n",
    "plt.title(\"Points Scored vs Minutes Played\")\n",
    "plt.xlabel(\"Minutes Played\")\n",
    "plt.ylabel(\"Points Scored\")\n",
    "plt.show()"
   ]
  },
  {
   "cell_type": "code",
   "execution_count": null,
   "metadata": {},
   "outputs": [
    {
     "name": "stdout",
     "output_type": "stream",
     "text": [
      "Coefficient of minutes played in our model:  [0.76379986]\n",
      "Intercept in our model:  -9.762575722948242\n",
      "R^2 Score:  0.6433337196726847\n"
     ]
    }
   ],
   "source": [
    "# Only using 'Year' columnm, so we need to reshape to fit scikit's fit() function\n",
    "regr_X = np.array(nba['MP']).reshape(-1,1)\n",
    "# Response is '3PA', or the average # of 3-pointers attempted Per Game\n",
    "regr_y = nba['PTS']\n",
    "\n",
    "# Building a linear regression model using scikit's sklearn\n",
    "regr = linear_model.LinearRegression()\n",
    "\n",
    "# Calculating the parameters of our regression model using the fit() method\n",
    "lin_model = regr.fit(X=regr_X, y=regr_y)\n",
    "\n",
    "# Coefficient of year in our model\n",
    "print(\"Coefficient of minutes played in our model: \", lin_model.coef_)\n",
    "\n",
    "# Intercept Value in our model\n",
    "print(\"Intercept in our model: \", lin_model.intercept_)\n",
    "\n",
    "# Coefficient of Determination Score\n",
    "print(\"R^2 Score: \", regr.score(X=regr_X, y=regr_y))"
   ]
  },
  {
   "cell_type": "markdown",
   "metadata": {},
   "source": [
    "PTS = (0.76) MP - 9.76  "
   ]
  },
  {
   "cell_type": "code",
   "execution_count": null,
   "metadata": {
    "scrolled": false
   },
   "outputs": [
    {
     "name": "stdout",
     "output_type": "stream",
     "text": [
      "                            OLS Regression Results                            \n",
      "==============================================================================\n",
      "Dep. Variable:                    PTS   R-squared:                       0.643\n",
      "Model:                            OLS   Adj. R-squared:                  0.643\n",
      "Method:                 Least Squares   F-statistic:                     6328.\n",
      "Date:                Sun, 21 Mar 2021   Prob (F-statistic):               0.00\n",
      "Time:                        13:09:20   Log-Likelihood:                -9302.1\n",
      "No. Observations:                3510   AIC:                         1.861e+04\n",
      "Df Residuals:                    3508   BIC:                         1.862e+04\n",
      "Df Model:                           1                                         \n",
      "Covariance Type:            nonrobust                                         \n",
      "==============================================================================\n",
      "                 coef    std err          t      P>|t|      [0.025      0.975]\n",
      "------------------------------------------------------------------------------\n",
      "Constant      -9.7626      0.296    -33.002      0.000     -10.343      -9.183\n",
      "MP             0.7638      0.010     79.546      0.000       0.745       0.783\n",
      "==============================================================================\n",
      "Omnibus:                      191.588   Durbin-Watson:                   2.021\n",
      "Prob(Omnibus):                  0.000   Jarque-Bera (JB):              271.326\n",
      "Skew:                           0.492   Prob(JB):                     1.21e-59\n",
      "Kurtosis:                       3.943   Cond. No.                         158.\n",
      "==============================================================================\n",
      "\n",
      "Warnings:\n",
      "[1] Standard Errors assume that the covariance matrix of the errors is correctly specified.\n"
     ]
    }
   ],
   "source": [
    "# Need to add a column of 1s to create a constant term\n",
    "# statsmodels.api does not do it for us like sklearn does\n",
    "summary_X = sm.add_constant(regr_X)\n",
    "\n",
    "# Make into dataframes to make sure variable names are shown in output\n",
    "summary_X = pd.DataFrame(summary_X).reset_index(drop=True)\n",
    "summary_X.columns = ['Constant', 'MP']\n",
    "summary_y = pd.DataFrame(regr_y).reset_index(drop=True)\n",
    "\n",
    "summary_est = sm.OLS(summary_y, summary_X)\n",
    "\n",
    "print(summary_est.fit().summary())"
   ]
  },
  {
   "cell_type": "markdown",
   "metadata": {},
   "source": [
    "t-critical = 1.960\n",
    "Our model's t-value = 79.546\n",
    "\n",
    "Since our t-value was > t*, we have statistically-significant evidence to suggest at a 95% confidence level that Minutes Played and Points Scored have a positive, linear relationship "
   ]
  },
  {
   "cell_type": "code",
   "execution_count": null,
   "metadata": {},
   "outputs": [
    {
     "data": {
      "image/png": "[encoded data removed]",
      "text/plain": [
       "<Figure size 432x288 with 1 Axes>"
      ]
     },
     "metadata": {
      "needs_background": "light"
     },
     "output_type": "display_data"
    }
   ],
   "source": [
    "plt.scatter(x=nba['AST'], y=nba['TOV'])\n",
    "plt.title(\"Assists vs Turnovers\")\n",
    "plt.xlabel(\"Assists\")\n",
    "plt.ylabel(\"Turnovers\")\n",
    "plt.show()"
   ]
  },
  {
   "cell_type": "markdown",
   "metadata": {},
   "source": [
    "Ho: Assists & TOV have NO relationship.\n",
    "\n",
    "Ha: Assists & TV have a positive, linear relationship.\n",
    "\n",
    "Ho: u=0\n",
    "\n",
    "Ha: u>0"
   ]
  },
  {
   "cell_type": "code",
   "execution_count": null,
   "metadata": {
    "scrolled": false
   },
   "outputs": [
    {
     "name": "stdout",
     "output_type": "stream",
     "text": [
      "                            OLS Regression Results                            \n",
      "==============================================================================\n",
      "Dep. Variable:                    TOV   R-squared:                       0.499\n",
      "Model:                            OLS   Adj. R-squared:                  0.499\n",
      "Method:                 Least Squares   F-statistic:                     3494.\n",
      "Date:                Sun, 21 Mar 2021   Prob (F-statistic):               0.00\n",
      "Time:                        13:28:40   Log-Likelihood:                -2937.6\n",
      "No. Observations:                3510   AIC:                             5879.\n",
      "Df Residuals:                    3508   BIC:                             5892.\n",
      "Df Model:                           1                                         \n",
      "Covariance Type:            nonrobust                                         \n",
      "==============================================================================\n",
      "                 coef    std err          t      P>|t|      [0.025      0.975]\n",
      "------------------------------------------------------------------------------\n",
      "Constant       1.0500      0.016     65.449      0.000       1.019       1.082\n",
      "AST            0.2584      0.004     59.108      0.000       0.250       0.267\n",
      "==============================================================================\n",
      "Omnibus:                      258.169   Durbin-Watson:                   2.021\n",
      "Prob(Omnibus):                  0.000   Jarque-Bera (JB):              374.910\n",
      "Skew:                           0.604   Prob(JB):                     3.88e-82\n",
      "Kurtosis:                       4.052   Cond. No.                         6.55\n",
      "==============================================================================\n",
      "\n",
      "Warnings:\n",
      "[1] Standard Errors assume that the covariance matrix of the errors is correctly specified.\n"
     ]
    }
   ],
   "source": [
    "# Only using 'Year' columnm, so we need to reshape to fit scikit's fit() function\n",
    "regr_X = np.array(nba['AST']).reshape(-1,1)\n",
    "# Response is '3PA', or the average # of 3-pointers attempted Per Game\n",
    "regr_y = nba['TOV']\n",
    "\n",
    "# Need to add a column of 1s to create a constant term\n",
    "# statsmodels.api does not do it for us like sklearn does\n",
    "summary_X = sm.add_constant(regr_X)\n",
    "\n",
    "# Make into dataframes to make sure variable names are shown in output\n",
    "summary_X = pd.DataFrame(summary_X).reset_index(drop=True)\n",
    "summary_X.columns = ['Constant', 'AST']\n",
    "summary_y = pd.DataFrame(regr_y).reset_index(drop=True)\n",
    "\n",
    "summary_est = sm.OLS(summary_y, summary_X)\n",
    "\n",
    "print(summary_est.fit().summary())"
   ]
  },
  {
   "cell_type": "markdown",
   "metadata": {},
   "source": [
    "TOV = (0.26)(AST) + 1.05\n",
    "\n",
    "An increase in one assist yields an average of 0.26 more turnovers."
   ]
  },
  {
   "cell_type": "markdown",
   "metadata": {},
   "source": [
    "t-critical = 1.960\n",
    "Our model's t-value = 59.108\n",
    "\n",
    "Since our t-value was > t*, we have statistically-significant evidence to suggest at a 95% confidence level that Assists and Turnovers have a positive, linear relationship "
   ]
  }
 ],
 "metadata": {
  "kernelspec": {
   "display_name": "Python 3",
   "language": "python",
   "name": "python3"
  },
  "language_info": {
   "codemirror_mode": {
    "name": "ipython",
    "version": 3
   },
   "file_extension": ".py",
   "mimetype": "text/x-python",
   "name": "python",
   "nbconvert_exporter": "python",
   "pygments_lexer": "ipython3",
   "version": "3.7.6"
  }
 },
 "nbformat": 4,
 "nbformat_minor": 2
}
