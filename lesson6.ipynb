{
 "cells": [
  {
   "cell_type": "markdown",
   "metadata": {
    "collapsed": true
   },
   "source": [
    "# Linear Regression"
   ]
  },
  {
   "cell_type": "markdown",
   "metadata": {},
   "source": [
    "**Let's run a Linear Regression in Python on our NBA season average data.**"
   ]
  },
  {
   "cell_type": "code",
   "execution_count": null,
   "metadata": {},
   "outputs": [],
   "source": [
    "import pandas as pd\n",
    "import numpy as np\n",
    "\n",
    "# This library is used to do simple plots before running our regression\n",
    "import matplotlib.pyplot as plt\n",
    "\n",
    "# Two libraries you can do linear regression with.\n",
    "from sklearn import linear_model\n",
    "import statsmodels.api as sm\n",
    "\n",
    "# Used for displaying images from the internet I found to help learn this.\n",
    "from IPython.display import Image"
   ]
  },
  {
   "attachments": {},
   "cell_type": "markdown",
   "metadata": {},
   "source": [
    "**Load the pre-made data from the csv file**"
   ]
  },
  {
   "cell_type": "code",
   "execution_count": null,
   "metadata": {},
   "outputs": [],
   "source": [
    "nba = pd.read_csv(\"NBA Reg Season Player Avgs with Win Pct 2000-2019.csv\")\n",
    "nba.head()"
   ]
  },
  {
   "attachments": {},
   "cell_type": "markdown",
   "metadata": {},
   "source": [
    "**Look at all the column names to help hypothesize which two variables might be related.**"
   ]
  },
  {
   "cell_type": "code",
   "execution_count": null,
   "metadata": {},
   "outputs": [],
   "source": [
    "nba.columns"
   ]
  },
  {
   "attachments": {},
   "cell_type": "markdown",
   "metadata": {},
   "source": [
    "**Maybe we can expect that points scored (`PTS`) goes up as minutes played (`MP`) goes up?**\n",
    "\n",
    "First, make a scatterplot of these two columns to explore the data."
   ]
  },
  {
   "cell_type": "code",
   "execution_count": null,
   "metadata": {},
   "outputs": [],
   "source": [
    "plt.scatter(x=nba['MP'], y=nba['PTS'])\n",
    "plt.title(\"Points Scored vs Minutes Played\")\n",
    "plt.xlabel(\"Minutes Played\")\n",
    "plt.ylabel(\"Points Scored\")\n",
    "plt.show()"
   ]
  },
  {
   "cell_type": "code",
   "execution_count": null,
   "metadata": {},
   "outputs": [],
   "source": [
    "# Only using 'Year' columnm, so we need to reshape to fit scikit's fit() function\n",
    "regr_X = np.array(nba['MP']).reshape(-1,1)\n",
    "# Response is '3PA', or the average # of 3-pointers attempted Per Game\n",
    "regr_y = nba['PTS']\n",
    "\n",
    "# Building a linear regression model using scikit's sklearn\n",
    "regr = linear_model.LinearRegression()\n",
    "\n",
    "# Calculating the parameters of our regression model using the fit() method\n",
    "lin_model = regr.fit(X=regr_X, y=regr_y)\n",
    "\n",
    "# Coefficient of year in our model\n",
    "print(\"Coefficient of minutes played in our model: \", lin_model.coef_)\n",
    "\n",
    "# Intercept Value in our model\n",
    "print(\"Intercept in our model: \", lin_model.intercept_)\n",
    "\n",
    "# Coefficient of Determination Score\n",
    "print(\"R^2 Score: \", regr.score(X=regr_X, y=regr_y))"
   ]
  },
  {
   "cell_type": "markdown",
   "metadata": {},
   "source": [
    "PTS = (0.76) MP - 9.76  "
   ]
  },
  {
   "cell_type": "code",
   "execution_count": null,
   "metadata": {
    "scrolled": false
   },
   "outputs": [],
   "source": [
    "# Need to add a column of 1s to create a constant term\n",
    "# statsmodels.api does not do it for us like sklearn does\n",
    "summary_X = sm.add_constant(regr_X)\n",
    "\n",
    "# Make into dataframes to make sure variable names are shown in output\n",
    "summary_X = pd.DataFrame(summary_X).reset_index(drop=True)\n",
    "summary_X.columns = ['Constant', 'MP']\n",
    "summary_y = pd.DataFrame(regr_y).reset_index(drop=True)\n",
    "\n",
    "summary_est = sm.OLS(summary_y, summary_X)\n",
    "\n",
    "print(summary_est.fit().summary())"
   ]
  },
  {
   "attachments": {},
   "cell_type": "markdown",
   "metadata": {},
   "source": [
    "t-critical = 1.960\n",
    "Our model's t-value = 79.546\n",
    "\n",
    "Since the t-value was > t*, we have statistically-significant evidence to suggest at a 95% confidence level that Minutes Played and Points Scored have a positive, linear relationship "
   ]
  },
  {
   "cell_type": "code",
   "execution_count": null,
   "metadata": {},
   "outputs": [],
   "source": [
    "plt.scatter(x=nba['AST'], y=nba['TOV'])\n",
    "plt.title(\"Assists vs Turnovers\")\n",
    "plt.xlabel(\"Assists\")\n",
    "plt.ylabel(\"Turnovers\")\n",
    "plt.show()"
   ]
  },
  {
   "cell_type": "markdown",
   "metadata": {},
   "source": [
    "Ho: Assists & TOV have NO relationship.\n",
    "\n",
    "Ha: Assists & TV have a positive, linear relationship.\n",
    "\n",
    "Ho: u=0\n",
    "\n",
    "Ha: u>0"
   ]
  },
  {
   "cell_type": "code",
   "execution_count": null,
   "metadata": {
    "scrolled": false
   },
   "outputs": [],
   "source": [
    "# Only using 'Year' columnm, so we need to reshape to fit scikit's fit() function\n",
    "regr_X = np.array(nba['AST']).reshape(-1,1)\n",
    "# Response is '3PA', or the average # of 3-pointers attempted Per Game\n",
    "regr_y = nba['TOV']\n",
    "\n",
    "# Need to add a column of 1s to create a constant term\n",
    "# statsmodels.api does not do it for us like sklearn does\n",
    "summary_X = sm.add_constant(regr_X)\n",
    "\n",
    "# Make into dataframes to make sure variable names are shown in output\n",
    "summary_X = pd.DataFrame(summary_X).reset_index(drop=True)\n",
    "summary_X.columns = ['Constant', 'AST']\n",
    "summary_y = pd.DataFrame(regr_y).reset_index(drop=True)\n",
    "\n",
    "summary_est = sm.OLS(summary_y, summary_X)\n",
    "\n",
    "print(summary_est.fit().summary())"
   ]
  },
  {
   "cell_type": "markdown",
   "metadata": {},
   "source": [
    "TOV = (0.26)(AST) + 1.05\n",
    "\n",
    "An increase in one assist yields an average of 0.26 more turnovers."
   ]
  },
  {
   "cell_type": "markdown",
   "metadata": {},
   "source": [
    "t-critical = 1.960\n",
    "Our model's t-value = 59.108\n",
    "\n",
    "Since our t-value was > t*, we have statistically-significant evidence to suggest at a 95% confidence level that Assists and Turnovers have a positive, linear relationship "
   ]
  }
 ],
 "metadata": {
  "kernelspec": {
   "display_name": "Python 3",
   "language": "python",
   "name": "python3"
  },
  "language_info": {
   "codemirror_mode": {
    "name": "ipython",
    "version": 3
   },
   "file_extension": ".py",
   "mimetype": "text/x-python",
   "name": "python",
   "nbconvert_exporter": "python",
   "pygments_lexer": "ipython3",
   "version": "3.7.6"
  }
 },
 "nbformat": 4,
 "nbformat_minor": 2
}
